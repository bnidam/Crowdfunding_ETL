{
 "cells": [
  {
   "cell_type": "code",
   "execution_count": 1,
   "metadata": {},
   "outputs": [],
   "source": [
    "# Deliverable 1 - using Python \n",
    "\n",
    "import pandas as pd\n",
    "import json"
   ]
  },
  {
   "cell_type": "code",
   "execution_count": 2,
   "metadata": {
    "scrolled": true
   },
   "outputs": [
    {
     "data": {
      "text/html": [
       "<div>\n",
       "<style scoped>\n",
       "    .dataframe tbody tr th:only-of-type {\n",
       "        vertical-align: middle;\n",
       "    }\n",
       "\n",
       "    .dataframe tbody tr th {\n",
       "        vertical-align: top;\n",
       "    }\n",
       "\n",
       "    .dataframe thead th {\n",
       "        text-align: right;\n",
       "    }\n",
       "</style>\n",
       "<table border=\"1\" class=\"dataframe\">\n",
       "  <thead>\n",
       "    <tr style=\"text-align: right;\">\n",
       "      <th></th>\n",
       "      <th>backer_info</th>\n",
       "    </tr>\n",
       "  </thead>\n",
       "  <tbody>\n",
       "    <tr>\n",
       "      <th>0</th>\n",
       "      <td>{\"backer_id\": \"av166\", \"cf_id\": 968, \"name\": \"Angelo Vincent\", \"email\": \"avincent@live.com\"}</td>\n",
       "    </tr>\n",
       "    <tr>\n",
       "      <th>1</th>\n",
       "      <td>{\"backer_id\": \"ha127\", \"cf_id\": 563, \"name\": \"Hubert Arnold\", \"email\": \"harnold@yandex.com\"}</td>\n",
       "    </tr>\n",
       "    <tr>\n",
       "      <th>2</th>\n",
       "      <td>{\"backer_id\": \"lg794\", \"cf_id\": 65, \"name\": \"Loris Goulet\", \"email\": \"lgoulet@yandex.com\"}</td>\n",
       "    </tr>\n",
       "    <tr>\n",
       "      <th>3</th>\n",
       "      <td>{\"backer_id\": \"tb566\", \"cf_id\": 563, \"name\": \"Teodora Brunelli\", \"email\": \"tbrunelli@outlook.com\"}</td>\n",
       "    </tr>\n",
       "    <tr>\n",
       "      <th>4</th>\n",
       "      <td>{\"backer_id\": \"lh506\", \"cf_id\": 563, \"name\": \"Lexie Hunt\", \"email\": \"lhunt@live.com\"}</td>\n",
       "    </tr>\n",
       "  </tbody>\n",
       "</table>\n",
       "</div>"
      ],
      "text/plain": [
       "                                                                                          backer_info\n",
       "0        {\"backer_id\": \"av166\", \"cf_id\": 968, \"name\": \"Angelo Vincent\", \"email\": \"avincent@live.com\"}\n",
       "1        {\"backer_id\": \"ha127\", \"cf_id\": 563, \"name\": \"Hubert Arnold\", \"email\": \"harnold@yandex.com\"}\n",
       "2          {\"backer_id\": \"lg794\", \"cf_id\": 65, \"name\": \"Loris Goulet\", \"email\": \"lgoulet@yandex.com\"}\n",
       "3  {\"backer_id\": \"tb566\", \"cf_id\": 563, \"name\": \"Teodora Brunelli\", \"email\": \"tbrunelli@outlook.com\"}\n",
       "4               {\"backer_id\": \"lh506\", \"cf_id\": 563, \"name\": \"Lexie Hunt\", \"email\": \"lhunt@live.com\"}"
      ]
     },
     "execution_count": 2,
     "metadata": {},
     "output_type": "execute_result"
    }
   ],
   "source": [
    "# Get the backers_info from the crowdfunding_info sheet.\n",
    "backer_info_df = pd.read_csv(\"Resources/backer_info.csv\")\n",
    "pd.set_option('max_colwidth', 400)\n",
    "\n",
    "backer_info_df.head()\n"
   ]
  },
  {
   "cell_type": "code",
   "execution_count": 3,
   "metadata": {
    "scrolled": true
   },
   "outputs": [
    {
     "name": "stdout",
     "output_type": "stream",
     "text": [
      "<class 'pandas.core.frame.DataFrame'>\n",
      "RangeIndex: 8175 entries, 0 to 8174\n",
      "Data columns (total 1 columns):\n",
      " #   Column       Non-Null Count  Dtype \n",
      "---  ------       --------------  ----- \n",
      " 0   backer_info  8175 non-null   object\n",
      "dtypes: object(1)\n",
      "memory usage: 64.0+ KB\n"
     ]
    }
   ],
   "source": [
    "backer_info_df.info()"
   ]
  },
  {
   "cell_type": "code",
   "execution_count": 4,
   "metadata": {
    "scrolled": true
   },
   "outputs": [
    {
     "name": "stdout",
     "output_type": "stream",
     "text": [
      "backer_id av166\n",
      "cf_id 968\n",
      "name Angelo Vincent\n",
      "email avincent@live.com\n"
     ]
    }
   ],
   "source": [
    "# Get the data from the first row and convert it to a dictionary.\n",
    "import json\n",
    "first_row = backer_info_df.iloc[0]['backer_info']\n",
    "converted_data = json.loads(first_row)\n",
    "for k, v in converted_data.items():\n",
    "    print(k,v)"
   ]
  },
  {
   "cell_type": "code",
   "execution_count": 5,
   "metadata": {},
   "outputs": [
    {
     "name": "stdout",
     "output_type": "stream",
     "text": [
      "[['av166', 968, 'Angelo Vincent', 'avincent@live.com'], ['ha127', 563, 'Hubert Arnold', 'harnold@yandex.com'], ['lg794', 65, 'Loris Goulet', 'lgoulet@yandex.com'], ['tb566', 563, 'Teodora Brunelli', 'tbrunelli@outlook.com'], ['lh506', 563, 'Lexie Hunt', 'lhunt@live.com']]\n"
     ]
    }
   ],
   "source": [
    "# Iterate through the backers DataFrame and convert each row to a dictionary.\n",
    "dict_values = []\n",
    "for i, row in backer_info_df.iterrows():\n",
    "    data = row['backer_info']\n",
    "    converted_data = json.loads(data)    \n",
    "    # Iterate through each dictionary (row) and get the values for each row using list comprehension.\n",
    "    row_values = [v for k, v in converted_data.items()]\n",
    "    # Append the list of values for each row to a list. \n",
    "    dict_values.append(row_values)\n",
    "\n",
    "# Print out the list of values for each row.\n",
    "print(dict_values[0:5])\n"
   ]
  },
  {
   "cell_type": "code",
   "execution_count": 6,
   "metadata": {},
   "outputs": [
    {
     "data": {
      "text/html": [
       "<div>\n",
       "<style scoped>\n",
       "    .dataframe tbody tr th:only-of-type {\n",
       "        vertical-align: middle;\n",
       "    }\n",
       "\n",
       "    .dataframe tbody tr th {\n",
       "        vertical-align: top;\n",
       "    }\n",
       "\n",
       "    .dataframe thead th {\n",
       "        text-align: right;\n",
       "    }\n",
       "</style>\n",
       "<table border=\"1\" class=\"dataframe\">\n",
       "  <thead>\n",
       "    <tr style=\"text-align: right;\">\n",
       "      <th></th>\n",
       "      <th>backer_id</th>\n",
       "      <th>cf_id</th>\n",
       "      <th>name</th>\n",
       "      <th>email</th>\n",
       "    </tr>\n",
       "  </thead>\n",
       "  <tbody>\n",
       "    <tr>\n",
       "      <th>0</th>\n",
       "      <td>av166</td>\n",
       "      <td>968</td>\n",
       "      <td>Angelo Vincent</td>\n",
       "      <td>avincent@live.com</td>\n",
       "    </tr>\n",
       "    <tr>\n",
       "      <th>1</th>\n",
       "      <td>ha127</td>\n",
       "      <td>563</td>\n",
       "      <td>Hubert Arnold</td>\n",
       "      <td>harnold@yandex.com</td>\n",
       "    </tr>\n",
       "    <tr>\n",
       "      <th>2</th>\n",
       "      <td>lg794</td>\n",
       "      <td>65</td>\n",
       "      <td>Loris Goulet</td>\n",
       "      <td>lgoulet@yandex.com</td>\n",
       "    </tr>\n",
       "    <tr>\n",
       "      <th>3</th>\n",
       "      <td>tb566</td>\n",
       "      <td>563</td>\n",
       "      <td>Teodora Brunelli</td>\n",
       "      <td>tbrunelli@outlook.com</td>\n",
       "    </tr>\n",
       "    <tr>\n",
       "      <th>4</th>\n",
       "      <td>lh506</td>\n",
       "      <td>563</td>\n",
       "      <td>Lexie Hunt</td>\n",
       "      <td>lhunt@live.com</td>\n",
       "    </tr>\n",
       "  </tbody>\n",
       "</table>\n",
       "</div>"
      ],
      "text/plain": [
       "  backer_id  cf_id              name                  email\n",
       "0     av166    968    Angelo Vincent      avincent@live.com\n",
       "1     ha127    563     Hubert Arnold     harnold@yandex.com\n",
       "2     lg794     65      Loris Goulet     lgoulet@yandex.com\n",
       "3     tb566    563  Teodora Brunelli  tbrunelli@outlook.com\n",
       "4     lh506    563        Lexie Hunt         lhunt@live.com"
      ]
     },
     "execution_count": 6,
     "metadata": {},
     "output_type": "execute_result"
    }
   ],
   "source": [
    "# Create a backers_df DataFrame with the following columns: 'backer_id','cf_id', 'name', and 'email' \n",
    "# using the list of values lists. \n",
    "backers_df = pd.DataFrame(dict_values, columns=[\"backer_id\", \"cf_id\", \"name\", \"email\"])\n",
    "\n",
    "backers_df.head()"
   ]
  },
  {
   "cell_type": "code",
   "execution_count": 7,
   "metadata": {},
   "outputs": [],
   "source": [
    "# Export the DataFrame as a CSV file using encoding='utf8'.\n",
    "\n",
    "backers_df.to_csv(\"Resources/backers.csv\", index=False)"
   ]
  },
  {
   "cell_type": "markdown",
   "metadata": {},
   "source": [
    "## Deliverable 2: Transform and Clean Data\n",
    "----\n",
    "1. Check the data types of the columns and convert the \"cf_id\" column to an integer, if necessary.\n",
    "2. Split the name in the \"name\" column into first and last names, and add them to \"first_name\" and \"last_name\" columns in the DataFrame. \n",
    "3. Drop the \"name\" column in the DataFrame.\n",
    "4. Place the columns in the following order; \"backer_id\", \"cf_id\", \"first_name\", \"last_name\" and \"email\"."
   ]
  },
  {
   "cell_type": "code",
   "execution_count": 8,
   "metadata": {},
   "outputs": [
    {
     "name": "stdout",
     "output_type": "stream",
     "text": [
      "<class 'pandas.core.frame.DataFrame'>\n",
      "RangeIndex: 8175 entries, 0 to 8174\n",
      "Data columns (total 4 columns):\n",
      " #   Column     Non-Null Count  Dtype \n",
      "---  ------     --------------  ----- \n",
      " 0   backer_id  8175 non-null   object\n",
      " 1   cf_id      8175 non-null   int64 \n",
      " 2   name       8175 non-null   object\n",
      " 3   email      8175 non-null   object\n",
      "dtypes: int64(1), object(3)\n",
      "memory usage: 255.6+ KB\n"
     ]
    }
   ],
   "source": [
    "# Check data types.\n",
    "backers_df.info()\n"
   ]
  },
  {
   "cell_type": "code",
   "execution_count": 9,
   "metadata": {},
   "outputs": [],
   "source": [
    "# Convert cf_id to an integer if necessary.\n",
    "backers_df[[\"cf_id\"]]= backers_df[[\"cf_id\"]].astype(int)\n"
   ]
  },
  {
   "cell_type": "code",
   "execution_count": 10,
   "metadata": {},
   "outputs": [
    {
     "data": {
      "text/html": [
       "<div>\n",
       "<style scoped>\n",
       "    .dataframe tbody tr th:only-of-type {\n",
       "        vertical-align: middle;\n",
       "    }\n",
       "\n",
       "    .dataframe tbody tr th {\n",
       "        vertical-align: top;\n",
       "    }\n",
       "\n",
       "    .dataframe thead th {\n",
       "        text-align: right;\n",
       "    }\n",
       "</style>\n",
       "<table border=\"1\" class=\"dataframe\">\n",
       "  <thead>\n",
       "    <tr style=\"text-align: right;\">\n",
       "      <th></th>\n",
       "      <th>backer_id</th>\n",
       "      <th>cf_id</th>\n",
       "      <th>name</th>\n",
       "      <th>email</th>\n",
       "      <th>first_name</th>\n",
       "      <th>last_name</th>\n",
       "    </tr>\n",
       "  </thead>\n",
       "  <tbody>\n",
       "    <tr>\n",
       "      <th>0</th>\n",
       "      <td>av166</td>\n",
       "      <td>968</td>\n",
       "      <td>Angelo Vincent</td>\n",
       "      <td>avincent@live.com</td>\n",
       "      <td>Angelo</td>\n",
       "      <td>Vincent</td>\n",
       "    </tr>\n",
       "    <tr>\n",
       "      <th>1</th>\n",
       "      <td>ha127</td>\n",
       "      <td>563</td>\n",
       "      <td>Hubert Arnold</td>\n",
       "      <td>harnold@yandex.com</td>\n",
       "      <td>Hubert</td>\n",
       "      <td>Arnold</td>\n",
       "    </tr>\n",
       "    <tr>\n",
       "      <th>2</th>\n",
       "      <td>lg794</td>\n",
       "      <td>65</td>\n",
       "      <td>Loris Goulet</td>\n",
       "      <td>lgoulet@yandex.com</td>\n",
       "      <td>Loris</td>\n",
       "      <td>Goulet</td>\n",
       "    </tr>\n",
       "    <tr>\n",
       "      <th>3</th>\n",
       "      <td>tb566</td>\n",
       "      <td>563</td>\n",
       "      <td>Teodora Brunelli</td>\n",
       "      <td>tbrunelli@outlook.com</td>\n",
       "      <td>Teodora</td>\n",
       "      <td>Brunelli</td>\n",
       "    </tr>\n",
       "    <tr>\n",
       "      <th>4</th>\n",
       "      <td>lh506</td>\n",
       "      <td>563</td>\n",
       "      <td>Lexie Hunt</td>\n",
       "      <td>lhunt@live.com</td>\n",
       "      <td>Lexie</td>\n",
       "      <td>Hunt</td>\n",
       "    </tr>\n",
       "    <tr>\n",
       "      <th>5</th>\n",
       "      <td>lh382</td>\n",
       "      <td>563</td>\n",
       "      <td>Lambert Huber</td>\n",
       "      <td>lhuber@live.com</td>\n",
       "      <td>Lambert</td>\n",
       "      <td>Huber</td>\n",
       "    </tr>\n",
       "    <tr>\n",
       "      <th>6</th>\n",
       "      <td>em444</td>\n",
       "      <td>563</td>\n",
       "      <td>Emmy Morin</td>\n",
       "      <td>emorin@live.com</td>\n",
       "      <td>Emmy</td>\n",
       "      <td>Morin</td>\n",
       "    </tr>\n",
       "    <tr>\n",
       "      <th>7</th>\n",
       "      <td>at582</td>\n",
       "      <td>1572</td>\n",
       "      <td>Armonda Trani</td>\n",
       "      <td>atrani@live.com</td>\n",
       "      <td>Armonda</td>\n",
       "      <td>Trani</td>\n",
       "    </tr>\n",
       "    <tr>\n",
       "      <th>8</th>\n",
       "      <td>id772</td>\n",
       "      <td>1911</td>\n",
       "      <td>Ilana Duke</td>\n",
       "      <td>iduke@outlook.com</td>\n",
       "      <td>Ilana</td>\n",
       "      <td>Duke</td>\n",
       "    </tr>\n",
       "    <tr>\n",
       "      <th>9</th>\n",
       "      <td>lw275</td>\n",
       "      <td>65</td>\n",
       "      <td>Leigha Wright</td>\n",
       "      <td>lwright@live.com</td>\n",
       "      <td>Leigha</td>\n",
       "      <td>Wright</td>\n",
       "    </tr>\n",
       "  </tbody>\n",
       "</table>\n",
       "</div>"
      ],
      "text/plain": [
       "  backer_id  cf_id              name                  email first_name  \\\n",
       "0     av166    968    Angelo Vincent      avincent@live.com     Angelo   \n",
       "1     ha127    563     Hubert Arnold     harnold@yandex.com     Hubert   \n",
       "2     lg794     65      Loris Goulet     lgoulet@yandex.com      Loris   \n",
       "3     tb566    563  Teodora Brunelli  tbrunelli@outlook.com    Teodora   \n",
       "4     lh506    563        Lexie Hunt         lhunt@live.com      Lexie   \n",
       "5     lh382    563     Lambert Huber        lhuber@live.com    Lambert   \n",
       "6     em444    563        Emmy Morin        emorin@live.com       Emmy   \n",
       "7     at582   1572     Armonda Trani        atrani@live.com    Armonda   \n",
       "8     id772   1911        Ilana Duke      iduke@outlook.com      Ilana   \n",
       "9     lw275     65     Leigha Wright       lwright@live.com     Leigha   \n",
       "\n",
       "  last_name  \n",
       "0   Vincent  \n",
       "1    Arnold  \n",
       "2    Goulet  \n",
       "3  Brunelli  \n",
       "4      Hunt  \n",
       "5     Huber  \n",
       "6     Morin  \n",
       "7     Trani  \n",
       "8      Duke  \n",
       "9    Wright  "
      ]
     },
     "execution_count": 10,
     "metadata": {},
     "output_type": "execute_result"
    }
   ],
   "source": [
    "# Split the \"name\" column into \"first_name\" and \"last_name\" columns.\n",
    "backers_df[[\"first_name\", \"last_name\"]] = backers_df[\"name\"].str.split(n=1, expand=True)\n",
    "backers_df.head(10)"
   ]
  },
  {
   "cell_type": "code",
   "execution_count": 11,
   "metadata": {},
   "outputs": [],
   "source": [
    "#  Drop the name column\n",
    "backers_df = backers_df.drop(['name'], axis=1)\n"
   ]
  },
  {
   "cell_type": "code",
   "execution_count": 12,
   "metadata": {},
   "outputs": [
    {
     "data": {
      "text/html": [
       "<div>\n",
       "<style scoped>\n",
       "    .dataframe tbody tr th:only-of-type {\n",
       "        vertical-align: middle;\n",
       "    }\n",
       "\n",
       "    .dataframe tbody tr th {\n",
       "        vertical-align: top;\n",
       "    }\n",
       "\n",
       "    .dataframe thead th {\n",
       "        text-align: right;\n",
       "    }\n",
       "</style>\n",
       "<table border=\"1\" class=\"dataframe\">\n",
       "  <thead>\n",
       "    <tr style=\"text-align: right;\">\n",
       "      <th></th>\n",
       "      <th>backer_id</th>\n",
       "      <th>cf_id</th>\n",
       "      <th>first_name</th>\n",
       "      <th>last_name</th>\n",
       "      <th>email</th>\n",
       "    </tr>\n",
       "  </thead>\n",
       "  <tbody>\n",
       "    <tr>\n",
       "      <th>0</th>\n",
       "      <td>av166</td>\n",
       "      <td>968</td>\n",
       "      <td>Angelo</td>\n",
       "      <td>Vincent</td>\n",
       "      <td>avincent@live.com</td>\n",
       "    </tr>\n",
       "    <tr>\n",
       "      <th>1</th>\n",
       "      <td>ha127</td>\n",
       "      <td>563</td>\n",
       "      <td>Hubert</td>\n",
       "      <td>Arnold</td>\n",
       "      <td>harnold@yandex.com</td>\n",
       "    </tr>\n",
       "    <tr>\n",
       "      <th>2</th>\n",
       "      <td>lg794</td>\n",
       "      <td>65</td>\n",
       "      <td>Loris</td>\n",
       "      <td>Goulet</td>\n",
       "      <td>lgoulet@yandex.com</td>\n",
       "    </tr>\n",
       "    <tr>\n",
       "      <th>3</th>\n",
       "      <td>tb566</td>\n",
       "      <td>563</td>\n",
       "      <td>Teodora</td>\n",
       "      <td>Brunelli</td>\n",
       "      <td>tbrunelli@outlook.com</td>\n",
       "    </tr>\n",
       "    <tr>\n",
       "      <th>4</th>\n",
       "      <td>lh506</td>\n",
       "      <td>563</td>\n",
       "      <td>Lexie</td>\n",
       "      <td>Hunt</td>\n",
       "      <td>lhunt@live.com</td>\n",
       "    </tr>\n",
       "  </tbody>\n",
       "</table>\n",
       "</div>"
      ],
      "text/plain": [
       "  backer_id  cf_id first_name last_name                  email\n",
       "0     av166    968     Angelo   Vincent      avincent@live.com\n",
       "1     ha127    563     Hubert    Arnold     harnold@yandex.com\n",
       "2     lg794     65      Loris    Goulet     lgoulet@yandex.com\n",
       "3     tb566    563    Teodora  Brunelli  tbrunelli@outlook.com\n",
       "4     lh506    563      Lexie      Hunt         lhunt@live.com"
      ]
     },
     "execution_count": 12,
     "metadata": {},
     "output_type": "execute_result"
    }
   ],
   "source": [
    "# Reorder the columns\n",
    "backers_df = backers_df[['backer_id', 'cf_id', 'first_name', 'last_name', 'email']]\n",
    "\n",
    "backers_df.head()\n"
   ]
  },
  {
   "cell_type": "code",
   "execution_count": 14,
   "metadata": {},
   "outputs": [],
   "source": [
    "# Export the DataFrame as a CSV file using encoding='utf8'.\n",
    "backers_df.to_csv(\"Resources/backers.csv\", index=False)"
   ]
  },
  {
   "cell_type": "code",
   "execution_count": null,
   "metadata": {},
   "outputs": [],
   "source": []
  }
 ],
 "metadata": {
  "kernelspec": {
   "display_name": "PythonData",
   "language": "python",
   "name": "pythondata"
  },
  "language_info": {
   "codemirror_mode": {
    "name": "ipython",
    "version": 3
   },
   "file_extension": ".py",
   "mimetype": "text/x-python",
   "name": "python",
   "nbconvert_exporter": "python",
   "pygments_lexer": "ipython3",
   "version": "3.7.13"
  }
 },
 "nbformat": 4,
 "nbformat_minor": 4
}
